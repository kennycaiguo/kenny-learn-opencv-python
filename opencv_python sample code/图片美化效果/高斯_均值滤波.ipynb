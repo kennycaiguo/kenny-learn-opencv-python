{
 "cells": [
  {
   "cell_type": "code",
   "execution_count": 5,
   "id": "de1e96ab",
   "metadata": {},
   "outputs": [],
   "source": [
    "import cv2\n",
    "import numpy as np\n",
    "# 高斯滤波\n",
    "img = cv2.imread(\"./noise.png\")\n",
    "cv2.imshow(\"src pic \",img)\n",
    "\n",
    "# GaussianBlur(src, (size,size), sigmaX[, dst[, sigmaY[, borderType]]]) -> dst\n",
    "dst = cv2.GaussianBlur(img,(5,5),1.5)\n",
    "cv2.imshow(\"result\",dst)\n",
    "cv2.waitKey(0)\n",
    "cv2.destroyAllWindows()"
   ]
  },
  {
   "cell_type": "code",
   "execution_count": null,
   "id": "0a2b6658",
   "metadata": {},
   "outputs": [],
   "source": [
    "import cv2\n",
    "import numpy as np\n",
    "# 均值滤波，效果比上面好，也比手动实现的好\n",
    "img = cv2.imread(\"./noise.png\")\n",
    "cv2.imshow(\"src pic \",img)\n",
    "# cv2.medianBlur(src, ksize[, dst]) -> dst  # 注意这里的ksize是一个数字而不是一个元组\n",
    "dst = cv2.medianBlur(img,3)\n",
    "cv2.imshow(\"result\",dst)\n",
    "cv2.waitKey(0)\n",
    "cv2.destroyAllWindows()"
   ]
  },
  {
   "cell_type": "code",
   "execution_count": 4,
   "id": "d2dbfdb8",
   "metadata": {},
   "outputs": [],
   "source": [
    "import cv2\n",
    "import numpy as np\n",
    "# 手动均值滤波 ,效果不够好\n",
    "img = cv2.imread(\"./noise.png\")\n",
    "cv2.imshow(\"src pic \",img)\n",
    "h,w = img.shape[:2]\n",
    "dst = np.zeros(img.shape,np.uint8)\n",
    "for i in range(3,h-3):\n",
    "    for j in range(3,w-3):\n",
    "        sum_b = int(0)\n",
    "        sum_g = int(0)\n",
    "        sum_r = int(0)\n",
    "        for m in range(-3,3):\n",
    "            for n in range(-3,3):\n",
    "                (b,g,r)= img[i+m,j+n]\n",
    "                sum_b = sum_b + int(b)\n",
    "                sum_g = sum_g + int(g)\n",
    "                sum_r = sum_r + int(r)\n",
    "       # 计算均值\n",
    "        b = np.uint8(sum_b/36)\n",
    "        g = np.uint8(sum_g/36)\n",
    "        r = np.uint8(sum_r/36)\n",
    "        # 填充目标图像\n",
    "        dst[i,j] = (b,g,r)\n",
    "            \n",
    "cv2.imshow(\"result\",dst)\n",
    "cv2.waitKey(0)\n",
    "cv2.destroyAllWindows()"
   ]
  },
  {
   "cell_type": "code",
   "execution_count": 5,
   "id": "fd8204a6",
   "metadata": {},
   "outputs": [],
   "source": [
    "import cv2\n",
    "import numpy as np\n",
    "# 手动均值滤波 ，增加卷积核，效果比较好但是很模糊\n",
    "img = cv2.imread(\"./noise.png\")\n",
    "cv2.imshow(\"src pic \",img)\n",
    "h,w = img.shape[:2]\n",
    "dst = np.zeros(img.shape,np.uint8)\n",
    "for i in range(5,h-5):\n",
    "    for j in range(5,w-5):\n",
    "        sum_b = int(0)\n",
    "        sum_g = int(0)\n",
    "        sum_r = int(0)\n",
    "        for m in range(-5,5):\n",
    "            for n in range(-5,5):\n",
    "                (b,g,r)= img[i+m,j+n]\n",
    "                sum_b = sum_b + int(b)\n",
    "                sum_g = sum_g + int(g)\n",
    "                sum_r = sum_r + int(r)\n",
    "       # 计算均值\n",
    "        b = np.uint8(sum_b/100)\n",
    "        g = np.uint8(sum_g/100)\n",
    "        r = np.uint8(sum_r/100)\n",
    "        # 填充目标图像\n",
    "        dst[i,j] = (b,g,r)\n",
    "            \n",
    "cv2.imshow(\"result\",dst)\n",
    "cv2.waitKey(0)\n",
    "cv2.destroyAllWindows()"
   ]
  }
 ],
 "metadata": {
  "kernelspec": {
   "display_name": "Python 3",
   "language": "python",
   "name": "python3"
  },
  "language_info": {
   "codemirror_mode": {
    "name": "ipython",
    "version": 3
   },
   "file_extension": ".py",
   "mimetype": "text/x-python",
   "name": "python",
   "nbconvert_exporter": "python",
   "pygments_lexer": "ipython3",
   "version": "3.6.3"
  }
 },
 "nbformat": 4,
 "nbformat_minor": 5
}
