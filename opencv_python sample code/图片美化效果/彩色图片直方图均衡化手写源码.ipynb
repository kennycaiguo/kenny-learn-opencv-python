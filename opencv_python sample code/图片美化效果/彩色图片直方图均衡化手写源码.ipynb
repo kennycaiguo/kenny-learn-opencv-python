{
 "cells": [
  {
   "cell_type": "code",
   "execution_count": 4,
   "id": "4f3bc363",
   "metadata": {},
   "outputs": [],
   "source": [
    "import cv2\n",
    "import numpy as np\n",
    "\n",
    "img = cv2.imread('./01.jpg')\n",
    "h,w = img.shape[:2]\n",
    "# # 灰度化\n",
    "\n",
    "count_b = np.zeros(256,np.float)\n",
    "count_g = np.zeros(256,np.float)\n",
    "count_r = np.zeros(256,np.float)\n",
    "\n",
    "for i in range(0,h):\n",
    "    for j in range(0,w):\n",
    "#         pixel = gray[i,j]\n",
    "        (b,g,r) = img[i,j]           \n",
    "        index_b = int(b)\n",
    "        index_g = int(g)\n",
    "        index_r = int(r)           \n",
    "        count_b[index_b] = count_b[index_b] + 1\n",
    "        count_g[index_g] = count_g[index_g] + 1\n",
    "        count_r[index_r] = count_r[index_r] + 1\n",
    "                   \n",
    "for i in range(0,256): \n",
    "    count_b[i] = count_b[i]/(h * w)\n",
    "    count_g[i] = count_g[i]/(h * w)\n",
    "    count_r[i] = count_r[i]/(h * w)               \n",
    "# 计算累计概率\n",
    "sum_b = float(0)\n",
    "sum_g = float(0)\n",
    "sum_r = float(0)                   \n",
    "for i in range(0,256):   \n",
    "    sum_b = sum_b + count_b[i]\n",
    "    count_b[i] = sum_b\n",
    "    sum_g = sum_g + count_g[i]\n",
    "    count_g[i] = sum_g\n",
    "    sum_r = sum_r + count_r[i]\n",
    "    count_r[i] = sum_r              \n",
    "#计算映射表\n",
    "map_b = np.zeros(256,np.int16)\n",
    "map_g = np.zeros(256,np.int16)\n",
    "map_r = np.zeros(256,np.int16)                   \n",
    "for i in range(0,256):  \n",
    "    map_b[i] = np.uint16(count_b[i] * 255)\n",
    "    map_g[i] = np.uint16(count_g[i] * 255)\n",
    "    map_r[i] = np.uint16(count_r[i] * 255)               \n",
    "#映射\n",
    "dst = np.zeros(img.shape,np.uint8)\n",
    "for i in range(0,h):\n",
    "    for j in range(0,w):\n",
    "        (b,g,r) = img[i,j]\n",
    "        dst[i,j] = (map_b[b],map_g[g],map_r[r])\n",
    "        \n",
    "cv2.imshow(\"final\",dst)\n",
    "cv2.waitKey(0)\n",
    "cv2.destroyAllWindows()"
   ]
  },
  {
   "cell_type": "code",
   "execution_count": null,
   "id": "d36c7bb9",
   "metadata": {},
   "outputs": [],
   "source": []
  }
 ],
 "metadata": {
  "kernelspec": {
   "display_name": "Python 3",
   "language": "python",
   "name": "python3"
  },
  "language_info": {
   "codemirror_mode": {
    "name": "ipython",
    "version": 3
   },
   "file_extension": ".py",
   "mimetype": "text/x-python",
   "name": "python",
   "nbconvert_exporter": "python",
   "pygments_lexer": "ipython3",
   "version": "3.6.3"
  }
 },
 "nbformat": 4,
 "nbformat_minor": 5
}
