{
 "cells": [
  {
   "cell_type": "code",
   "execution_count": 1,
   "id": "f34a7fa8",
   "metadata": {},
   "outputs": [],
   "source": [
    "#生成坏图\n",
    "import cv2\n",
    "import numpy as np\n",
    "\n",
    "img = cv2.imread('./01.jpg')\n",
    "\n",
    "for i in range(200,300):\n",
    "    img[i,200]=(255,255,255)\n",
    "    img[i,200+1]=(255,255,255)\n",
    "    img[i,200-1]=(255,255,255)\n",
    "for i in range(150,250):\n",
    "    img[250,i]=(255,255,255)\n",
    "    img[250+1,i]=(255,255,255)\n",
    "    img[250-1,i]=(255,255,255)    \n",
    "cv2.imwrite('bad.jpg',img)\n",
    "cv2.imshow(\"bad\",img)\n",
    "cv2.waitKey(0)\n",
    "cv2.destroyAllWindows()\n"
   ]
  },
  {
   "cell_type": "code",
   "execution_count": 6,
   "id": "0877dbd0",
   "metadata": {},
   "outputs": [],
   "source": [
    "# 图片修补\n",
    "import cv2\n",
    "import numpy as np\n",
    "\n",
    "#加载坏图\n",
    "img = cv2.imread('./bad.jpg')\n",
    "cv2.imshow(\"before\",img)\n",
    "# 获取宽高\n",
    "h,w = img.shape[:2]\n",
    "# 创建一个绘画矩阵\n",
    "paint = np.zeros((h,w,1),np.uint8)\n",
    "# 填充矩阵\n",
    "for i in range(200,300):\n",
    "    paint[i,200]  = 255\n",
    "    paint[i,200+1]= 255\n",
    "    paint[i,200-1]= 255\n",
    "for i in range(150,250):\n",
    "    paint[250,i]   = 255\n",
    "    paint[250+1,i] = 255\n",
    "    paint[250-1,i] = 255\n",
    "# 开始修补 cv2.inpaint(src, inpaintMask, inpaintRadius, flags[, dst]) -> dst\n",
    "# flags的值：cv2.INPAINT_TELEA,cv2.INPAINT_NS\n",
    "# dst = cv2.inpaint(img,paint,4,cv2.INPAINT_TELEA)\n",
    "dst = cv2.inpaint(img,paint,4,cv2.INPAINT_NS)\n",
    "cv2.imshow(\"dst\",dst)    \n",
    "cv2.waitKey(0)\n",
    "cv2.destroyAllWindows()"
   ]
  },
  {
   "cell_type": "code",
   "execution_count": null,
   "id": "d7b52a7f",
   "metadata": {},
   "outputs": [],
   "source": []
  }
 ],
 "metadata": {
  "kernelspec": {
   "display_name": "Python 3",
   "language": "python",
   "name": "python3"
  },
  "language_info": {
   "codemirror_mode": {
    "name": "ipython",
    "version": 3
   },
   "file_extension": ".py",
   "mimetype": "text/x-python",
   "name": "python",
   "nbconvert_exporter": "python",
   "pygments_lexer": "ipython3",
   "version": "3.6.3"
  }
 },
 "nbformat": 4,
 "nbformat_minor": 5
}
