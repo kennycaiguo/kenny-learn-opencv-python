{
 "cells": [
  {
   "cell_type": "code",
   "execution_count": 4,
   "id": "56d196c3",
   "metadata": {},
   "outputs": [],
   "source": [
    "#中值滤波，手动实现\n",
    "import cv2\n",
    "import numpy as np\n",
    "\n",
    "img = cv2.imread('./girl.jpg')\n",
    "h,w = img.shape[:2] # shape属性是一个有3个元素的元组，我们只需要前面两个\n",
    "# 转为灰度图像\n",
    "gray_img = cv2.cvtColor(img,cv2.COLOR_BGR2GRAY)\n",
    "# 定义目标图像\n",
    "dst = np.zeros(img.shape,np.uint8)\n",
    "collect = np.zeros(9,np.uint8)\n",
    "#中值滤波处理\n",
    "for i in range(1,h-1):\n",
    "    for j in range(1,w-1):\n",
    "        k = 0;\n",
    "        # 获取3x3卷积核\n",
    "        for m in range(-1,2):\n",
    "            for n in range(-1,2):\n",
    "                gray = gray_img[i+m,j+n]\n",
    "                collect[k] = gray\n",
    "                k = k+1\n",
    "        # 进行排序\n",
    "        for o in range(0,9):\n",
    "            p1 = collect[o]\n",
    "            for p in range(o+1,9):\n",
    "                if p1< collect[p]:\n",
    "                    mid = collect[p]\n",
    "                    collect[p] = p1\n",
    "                    p1 = mid\n",
    "        dst[i,j] = collect[4]\n",
    "cv2.imshow(\"dst\",dst)        \n",
    "cv2.waitKey(0)\n",
    "cv2.destroyAllWindows()"
   ]
  },
  {
   "cell_type": "code",
   "execution_count": null,
   "id": "760e0526",
   "metadata": {},
   "outputs": [],
   "source": []
  }
 ],
 "metadata": {
  "kernelspec": {
   "display_name": "Python 3",
   "language": "python",
   "name": "python3"
  },
  "language_info": {
   "codemirror_mode": {
    "name": "ipython",
    "version": 3
   },
   "file_extension": ".py",
   "mimetype": "text/x-python",
   "name": "python",
   "nbconvert_exporter": "python",
   "pygments_lexer": "ipython3",
   "version": "3.6.3"
  }
 },
 "nbformat": 4,
 "nbformat_minor": 5
}
