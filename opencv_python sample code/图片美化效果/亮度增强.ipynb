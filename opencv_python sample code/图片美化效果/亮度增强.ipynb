{
 "cells": [
  {
   "cell_type": "code",
   "execution_count": 6,
   "id": "b3547159",
   "metadata": {},
   "outputs": [],
   "source": [
    "import cv2\n",
    "import numpy as np\n",
    "\n",
    "img = cv2.imread(\"./01.jpg\")\n",
    "cv2.imshow(\"src pic \",img)\n",
    "h,w = img.shape[:2]\n",
    "dst = np.zeros(img.shape,np.uint8)\n",
    "# 亮度增强公式 p = p + 常数\n",
    "for i in range(0,h):\n",
    "    for j in range(0,w):\n",
    "        (b,g,r) = img[i,j]\n",
    "        b = int(b)+35\n",
    "        g = int(g)+35\n",
    "        r = int(r)+35\n",
    "        if b > 255:\n",
    "            b = 255\n",
    "        if g > 255:\n",
    "            g = 255\n",
    "        if r > 255:\n",
    "            r = 255    \n",
    "        dst[i,j] = (b,g,r)\n",
    "cv2.imshow(\"result\",dst)\n",
    "cv2.waitKey(0)\n",
    "cv2.destroyAllWindows()"
   ]
  },
  {
   "cell_type": "code",
   "execution_count": null,
   "id": "ef099439",
   "metadata": {},
   "outputs": [],
   "source": [
    "import cv2\n",
    "import numpy as np\n",
    "# 计算公式 p = p * 1.2 + 常数\n",
    "img = cv2.imread(\"./01.jpg\")\n",
    "cv2.imshow(\"src pic \",img)\n",
    "h,w = img.shape[:2]\n",
    "dst = np.zeros(img.shape,np.uint8)\n",
    "for i in range(0,h):\n",
    "    for j in range(0,w):\n",
    "        (b,g,r) = img[i,j]\n",
    "        b = int(b*1.3)+10\n",
    "        g = int(g*1.2)+15\n",
    "        r = int(r*0.9)+5\n",
    "        if b > 255:\n",
    "            b = 255\n",
    "        if g > 255:\n",
    "            g = 255\n",
    "        if r > 255:\n",
    "            r = 255    \n",
    "           \n",
    "        dst[i,j] = (b,g,r)\n",
    "cv2.imshow(\"result\",dst)\n",
    "cv2.waitKey(0)\n",
    "cv2.destroyAllWindows()"
   ]
  },
  {
   "cell_type": "code",
   "execution_count": null,
   "id": "f288ce1f",
   "metadata": {},
   "outputs": [],
   "source": []
  }
 ],
 "metadata": {
  "kernelspec": {
   "display_name": "Python 3",
   "language": "python",
   "name": "python3"
  },
  "language_info": {
   "codemirror_mode": {
    "name": "ipython",
    "version": 3
   },
   "file_extension": ".py",
   "mimetype": "text/x-python",
   "name": "python",
   "nbconvert_exporter": "python",
   "pygments_lexer": "ipython3",
   "version": "3.6.3"
  }
 },
 "nbformat": 4,
 "nbformat_minor": 5
}
