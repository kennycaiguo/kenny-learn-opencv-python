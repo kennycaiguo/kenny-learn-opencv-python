{
 "cells": [
  {
   "cell_type": "code",
   "execution_count": 7,
   "id": "44f666cb",
   "metadata": {},
   "outputs": [],
   "source": [
    "# 彩色图片直方图的绘制\n",
    "import cv2\n",
    "import numpy as np\n",
    "\n",
    "# 直方图的绘制函数\n",
    "def drawHist(img,type):\n",
    "    color = (255,255,255)\n",
    "    windowName = 'Gray'\n",
    "    if type == 31:\n",
    "        color = (255,0,0)\n",
    "        windowName = 'B hist'\n",
    "    elif type == 32:    \n",
    "        color = (0,255,0)\n",
    "        windowName = 'G hist'\n",
    "    elif type == 33:    \n",
    "        color = (0,0,255)\n",
    "        windowName = 'R hist' \n",
    "    # calcHist(images, channels, mask, histSize, ranges[, hist[, accumulate]]) -> hist    \n",
    "    hist = cv2.calcHist([img],[0],None,[256],[0.0,255.0])   # 计算直方图数据\n",
    "    # 获取直方图的最小值，最大值，最小值下标，最大值下标\n",
    "    # minMaxLoc(src[, mask]) -> minVal, maxVal, minLoc, maxLoc,src是指直方图数据\n",
    "    minV,maxV,minIdx,maxIdx = cv2.minMaxLoc(hist)\n",
    "    # 定义直方图画布\n",
    "    histImg = np.zeros([256,256,3],np.uint8)\n",
    "    # 绘制\n",
    "    for h in range(256):\n",
    "        intenNormal = int(hist[h]*256/maxV)\n",
    "        cv2.line(histImg,(h,256),(h,256-intenNormal),color)\n",
    "    cv2.imshow(windowName,histImg)    \n",
    "        \n",
    "info = (500,500,3)\n",
    "dst = cv2.imread(\"01.jpg\")\n",
    "# 将图片的3个通道分离\n",
    "channels = cv2.split(dst)\n",
    "drawHist(channels[0],31)\n",
    "drawHist(channels[1],32)\n",
    "drawHist(channels[2],33)\n",
    "\n",
    "# cv2.imshow(\"dst\",dst)\n",
    "cv2.waitKey(0)\n",
    "cv2.destroyAllWindows()"
   ]
  },
  {
   "cell_type": "code",
   "execution_count": null,
   "id": "14b525a1",
   "metadata": {},
   "outputs": [],
   "source": []
  }
 ],
 "metadata": {
  "kernelspec": {
   "display_name": "Python 3",
   "language": "python",
   "name": "python3"
  },
  "language_info": {
   "codemirror_mode": {
    "name": "ipython",
    "version": 3
   },
   "file_extension": ".py",
   "mimetype": "text/x-python",
   "name": "python",
   "nbconvert_exporter": "python",
   "pygments_lexer": "ipython3",
   "version": "3.6.3"
  }
 },
 "nbformat": 4,
 "nbformat_minor": 5
}
