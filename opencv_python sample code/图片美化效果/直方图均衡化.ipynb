{
 "cells": [
  {
   "cell_type": "code",
   "execution_count": 1,
   "id": "6e0e178f",
   "metadata": {},
   "outputs": [],
   "source": [
    "#直方图均衡化\n",
    "import cv2\n",
    "import numpy as np\n",
    "\n",
    "img = cv2.imread('./01.jpg')\n",
    "# h,w = img.shape[:2] # shape属性是一个有3个元素的元组，我们只需要前面两个\n",
    "# 灰度化\n",
    "gray = cv2.cvtColor(img,cv2.COLOR_BGR2GRAY)\n",
    "cv2.imshow('gray',gray)\n",
    "# 均衡化\n",
    "result = cv2.equalizeHist(gray)\n",
    "cv2.imshow('equalized_gray',result)\n",
    "cv2.waitKey(0)\n",
    "cv2.destroyAllWindows()"
   ]
  },
  {
   "cell_type": "code",
   "execution_count": 6,
   "id": "b514bfc4",
   "metadata": {},
   "outputs": [],
   "source": [
    "# 直方图均衡化方法是单通道处理的，所以彩色图片需要先进行通道分离\n",
    "import cv2\n",
    "import numpy as np\n",
    "\n",
    "img = cv2.imread('./01.jpg')\n",
    "# h,w = img.shape[:2] # shape属性是一个有3个元素的元组，我们只需要前面两个\n",
    "# # 灰度化\n",
    "# gray = cv2.cvtColor(img,cv2.COLOR_BGR2GRAY)\n",
    "cv2.imshow('org',img)\n",
    "(b,g,r) = cv2.split(img)\n",
    "# 均衡化\n",
    "bh = cv2.equalizeHist(b)\n",
    "gh = cv2.equalizeHist(g)\n",
    "rh = cv2.equalizeHist(r)\n",
    "# 合并通道\n",
    "dst = cv2.merge((bh,gh,rh))\n",
    "cv2.imshow('equalize',dst)\n",
    "cv2.waitKey(0)\n",
    "cv2.destroyAllWindows()"
   ]
  },
  {
   "cell_type": "code",
   "execution_count": 2,
   "id": "2296ebd0",
   "metadata": {},
   "outputs": [],
   "source": [
    "# yuv通道均衡化\n",
    "import cv2\n",
    "import numpy as np\n",
    "\n",
    "img = cv2.imread('./01.jpg')\n",
    "# h,w = img.shape[:2] # shape属性是一个有3个元素的元组，我们只需要前面两个\n",
    "# YUV分解\n",
    "yuv_img = cv2.cvtColor(img,cv2.COLOR_BGR2YUV)\n",
    "cv2.imshow('yuv',yuv_img)\n",
    "(y,u,v) = cv2.split(yuv_img)\n",
    "\n",
    "# 均衡化\n",
    "yh = cv2.equalizeHist(y)\n",
    "uh = cv2.equalizeHist(u)\n",
    "rh = cv2.equalizeHist(v)\n",
    "dst = cv2.merge((yh,uh,rh))\n",
    "cv2.imshow('equalized_yuv',dst)\n",
    "# 转化为bgr模式\n",
    "result = cv2.cvtColor(dst,cv2.COLOR_YUV2BGR)\n",
    "cv2.imshow(\"result\",result)\n",
    "cv2.waitKey(0)\n",
    "cv2.destroyAllWindows()"
   ]
  },
  {
   "cell_type": "code",
   "execution_count": 4,
   "id": "327a1bc0",
   "metadata": {},
   "outputs": [],
   "source": [
    "# hsv\n",
    "import cv2\n",
    "import numpy as np\n",
    "\n",
    "img = cv2.imread('./01.jpg')\n",
    "# h,w = img.shape[:2] # shape属性是一个有3个元素的元组，我们只需要前面两个\n",
    "# bgr->hsv\n",
    "img_hsv = cv2.cvtColor(img,cv2.COLOR_BGR2HSV)\n",
    "cv2.imshow('hsv',img_hsv)\n",
    "#通道分离\n",
    "(h,s,v) = cv2.split(img_hsv)\n",
    "# 均衡化\n",
    "hh = cv2.equalizeHist(h)\n",
    "sh = cv2.equalizeHist(s)\n",
    "vh = cv2.equalizeHist(v)\n",
    "# 通道合并\n",
    "result_hsv = cv2.merge((hh,sh,vh))\n",
    "cv2.imshow('equalized_hsv',result_hsv)\n",
    "dst = cv2.cvtColor(result_hsv,cv2.COLOR_HSV2BGR)\n",
    "cv2.imshow('result',dst)\n",
    "cv2.waitKey(0)\n",
    "cv2.destroyAllWindows()"
   ]
  },
  {
   "cell_type": "code",
   "execution_count": 5,
   "id": "a8708485",
   "metadata": {},
   "outputs": [],
   "source": [
    "# hls\n",
    "import cv2\n",
    "import numpy as np\n",
    "\n",
    "img = cv2.imread('./01.jpg')\n",
    "# h,w = img.shape[:2] # shape属性是一个有3个元素的元组，我们只需要前面两个\n",
    "# bgr->hsv\n",
    "img_hls= cv2.cvtColor(img,cv2.COLOR_BGR2HLS)\n",
    "cv2.imshow('hls',img_hls)\n",
    "#通道分离\n",
    "(h,l,s) = cv2.split(img_hls)\n",
    "# 均衡化\n",
    "hh = cv2.equalizeHist(h)\n",
    "lh = cv2.equalizeHist(l)\n",
    "sh = cv2.equalizeHist(s)\n",
    "\n",
    "# 通道合并\n",
    "result_hls = cv2.merge((hh,lh,sh))\n",
    "cv2.imshow('equalized_hls',result_hls)\n",
    "dst = cv2.cvtColor(result_hls,cv2.COLOR_HSV2BGR)\n",
    "cv2.imshow('result',dst)\n",
    "cv2.waitKey(0)\n",
    "cv2.destroyAllWindows()"
   ]
  },
  {
   "cell_type": "code",
   "execution_count": null,
   "id": "370cd492",
   "metadata": {},
   "outputs": [],
   "source": []
  }
 ],
 "metadata": {
  "kernelspec": {
   "display_name": "Python 3",
   "language": "python",
   "name": "python3"
  },
  "language_info": {
   "codemirror_mode": {
    "name": "ipython",
    "version": 3
   },
   "file_extension": ".py",
   "mimetype": "text/x-python",
   "name": "python",
   "nbconvert_exporter": "python",
   "pygments_lexer": "ipython3",
   "version": "3.6.3"
  }
 },
 "nbformat": 4,
 "nbformat_minor": 5
}
