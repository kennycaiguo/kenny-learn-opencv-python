{
 "cells": [
  {
   "cell_type": "code",
   "execution_count": 2,
   "id": "fed32a16",
   "metadata": {},
   "outputs": [],
   "source": [
    "# 直方图的横坐标0-255表示的是灰度等级，纵坐标表示颜色出现的概率是0-1之间\n",
    "import cv2\n",
    "import numpy as np\n",
    "\n",
    "img = cv2.imread('./01.jpg')\n",
    "h,w = img.shape[:2]\n",
    "# 灰度化\n",
    "gray = cv2.cvtColor(img,cv2.COLOR_BGR2GRAY)\n",
    "count = np.zeros(256,np.float)\n",
    "for i in range(0,h):\n",
    "    for j in range(0,w):\n",
    "        pixel = gray[i,j]\n",
    "        index = int(pixel)\n",
    "        count[index] = count[index] + 1\n",
    "for i in range(0,256): \n",
    "    count[i] = count[i]/(h * w)\n",
    "# 计算累计概率\n",
    "sum1 = float(0)\n",
    "for i in range(0,256):   \n",
    "    sum1 = sum1 + count[i]\n",
    "    count[i] = sum1\n",
    "#计算映射表\n",
    "map1 = np.zeros(256,np.int16)\n",
    "for i in range(0,256):  \n",
    "    map1[i] = np.uint16(count[i] * 255)\n",
    "#映射\n",
    "for i in range(0,h):\n",
    "    for j in range(0,w):\n",
    "        pixel = gray[i,j]\n",
    "        gray[i,j] = map1[pixel]\n",
    "        \n",
    "cv2.imshow(\"final\",gray)\n",
    "cv2.waitKey(0)\n",
    "cv2.destroyAllWindows()"
   ]
  },
  {
   "cell_type": "code",
   "execution_count": null,
   "id": "14ac2987",
   "metadata": {},
   "outputs": [],
   "source": []
  }
 ],
 "metadata": {
  "kernelspec": {
   "display_name": "Python 3",
   "language": "python",
   "name": "python3"
  },
  "language_info": {
   "codemirror_mode": {
    "name": "ipython",
    "version": 3
   },
   "file_extension": ".py",
   "mimetype": "text/x-python",
   "name": "python",
   "nbconvert_exporter": "python",
   "pygments_lexer": "ipython3",
   "version": "3.6.3"
  }
 },
 "nbformat": 4,
 "nbformat_minor": 5
}
