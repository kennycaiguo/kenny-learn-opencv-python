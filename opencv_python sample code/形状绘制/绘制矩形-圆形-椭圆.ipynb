{
 "cells": [
  {
   "cell_type": "code",
   "execution_count": 5,
   "id": "c91c8b83",
   "metadata": {},
   "outputs": [],
   "source": [
    "## 绘制矩形，圆，椭圆，多边形\n",
    "import cv2\n",
    "import numpy as np\n",
    "\n",
    "info = (500,500,3)\n",
    "dst = np.zeros(info,np.uint8)\n",
    "# 矩形\n",
    "cv2.rectangle(dst,(50,50),(300,300),(255,255.0))\n",
    "# 圆形\n",
    "# cv2.circle(dst,(200,200),100,(255,0,255),5) # 注意：线宽参数还有一个作用，如果把它改为-1，就是表示填充图形\n",
    "cv2.circle(dst,(200,200),100,(255,0,255),-1)\n",
    "# 椭圆\n",
    "cv2.ellipse(dst,(150,100),(80,90),0,0,360,(0,0,255),5,1)\n",
    "# 多边形\n",
    "pts = np.array([[150,50],[140,140],[200,170],[250,250],[150,50]],np.int32)\n",
    "pts = pts.reshape((-1,1,2))\n",
    "cv2.polylines(dst,[pts],True,(0,255,255),3)\n",
    "cv2.imshow(\"dst\",dst)\n",
    "cv2.waitKey(0)\n",
    "cv2.destroyAllWindows()"
   ]
  },
  {
   "cell_type": "code",
   "execution_count": null,
   "id": "5faaf40e",
   "metadata": {},
   "outputs": [],
   "source": []
  },
  {
   "cell_type": "code",
   "execution_count": null,
   "id": "8db5f13a",
   "metadata": {},
   "outputs": [],
   "source": []
  }
 ],
 "metadata": {
  "kernelspec": {
   "display_name": "Python 3",
   "language": "python",
   "name": "python3"
  },
  "language_info": {
   "codemirror_mode": {
    "name": "ipython",
    "version": 3
   },
   "file_extension": ".py",
   "mimetype": "text/x-python",
   "name": "python",
   "nbconvert_exporter": "python",
   "pygments_lexer": "ipython3",
   "version": "3.6.3"
  }
 },
 "nbformat": 4,
 "nbformat_minor": 5
}
