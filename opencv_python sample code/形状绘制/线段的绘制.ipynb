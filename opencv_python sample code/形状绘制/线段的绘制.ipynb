{
 "cells": [
  {
   "cell_type": "code",
   "execution_count": 8,
   "id": "1883f015",
   "metadata": {},
   "outputs": [],
   "source": [
    "# 绘制线段\n",
    "import cv2\n",
    "import numpy as np\n",
    "\n",
    "info = (500,500,3)\n",
    "dst = np.zeros(info,np.uint8)\n",
    "# cv2.line(dst,(100,50),(90,180),[255,0,0])\n",
    "cv2.line(dst,(100,50),(200,50),[255,0,0])\n",
    "cv2.line(dst,(200,50),(200,100),[255,0,0])\n",
    "cv2.line(dst,(200,100),(100,100),[255,0,0])\n",
    "cv2.line(dst,(100,100),(100,50),[255,0,0])\n",
    "cv2.imshow(\"dst\",dst)\n",
    "cv2.waitKey(0)\n",
    "cv2.destroyAllWindows()"
   ]
  },
  {
   "cell_type": "code",
   "execution_count": null,
   "id": "2aea66f7",
   "metadata": {},
   "outputs": [],
   "source": []
  }
 ],
 "metadata": {
  "kernelspec": {
   "display_name": "Python 3",
   "language": "python",
   "name": "python3"
  },
  "language_info": {
   "codemirror_mode": {
    "name": "ipython",
    "version": 3
   },
   "file_extension": ".py",
   "mimetype": "text/x-python",
   "name": "python",
   "nbconvert_exporter": "python",
   "pygments_lexer": "ipython3",
   "version": "3.6.3"
  }
 },
 "nbformat": 4,
 "nbformat_minor": 5
}
