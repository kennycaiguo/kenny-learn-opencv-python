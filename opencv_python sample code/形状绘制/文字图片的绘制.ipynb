{
 "cells": [
  {
   "cell_type": "code",
   "execution_count": 8,
   "id": "7737dce5",
   "metadata": {},
   "outputs": [],
   "source": [
    "# 文字和图像的绘制\n",
    "import cv2\n",
    "import numpy as np\n",
    "\n",
    "info = (500,500,3)\n",
    "dst = cv2.imread(\"love2.jpg\")\n",
    "cv2.putText(dst,\"opencv draw text\",(70,70),cv2.FONT_HERSHEY_COMPLEX,1,(255,255,0))\n",
    "# 绘制图片\n",
    "#读取需要绘制的图片并且调整大小\n",
    "img = cv2.imread(\"./01.jpg\")\n",
    "h = img.shape[0]//2\n",
    "w = img.shape[1]//2\n",
    "new_img = cv2.resize(img,(w,h))\n",
    "# 使用2层循环绘制图片,其实就是替换像素\n",
    "for i in range(0,h):\n",
    "    for j in range(0,w):\n",
    "        dst[i+200,j+200] = img[i,j]\n",
    "# cv2.imshow(\"resize\",new_img)\n",
    "cv2.imshow(\"dst\",dst)\n",
    "cv2.waitKey(0)\n",
    "cv2.destroyAllWindows()"
   ]
  },
  {
   "cell_type": "code",
   "execution_count": null,
   "id": "ca22d33d",
   "metadata": {},
   "outputs": [],
   "source": []
  }
 ],
 "metadata": {
  "kernelspec": {
   "display_name": "Python 3",
   "language": "python",
   "name": "python3"
  },
  "language_info": {
   "codemirror_mode": {
    "name": "ipython",
    "version": 3
   },
   "file_extension": ".py",
   "mimetype": "text/x-python",
   "name": "python",
   "nbconvert_exporter": "python",
   "pygments_lexer": "ipython3",
   "version": "3.6.3"
  }
 },
 "nbformat": 4,
 "nbformat_minor": 5
}
