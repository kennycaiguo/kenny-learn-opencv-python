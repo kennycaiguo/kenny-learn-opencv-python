{
 "cells": [
  {
   "cell_type": "code",
   "execution_count": 6,
   "id": "94ecadc5",
   "metadata": {},
   "outputs": [],
   "source": [
    "import cv2\n",
    "import numpy as np\n",
    "\n",
    "img = cv2.imread(\"./lena.png\")\n",
    "h,w,depth= img.shape # shape是一个有3个值的元组，我们这里只需要两个值，使用切片来取第0个和第1个不包括第2个\n",
    "# print(w,h)\n",
    "cv2.imshow(\"source pic\",img)\n",
    "# # flip 0：y轴，1：x轴，-1：x和y\n",
    "# dstx = cv2.flip(img,1)\n",
    "# dsty = cv2.flip(img,0)\n",
    "# dstxy = cv2.flip(img,-1)\n",
    "# cv2.imshow(\"x轴：\",dstx)\n",
    "# cv2.imshow(\"y轴：\",dsty)\n",
    "# cv2.imshow(\"x,y轴：\",dstxy)\n",
    "newImgInfo = (h*2,w,depth)\n",
    "dst = np.zeros(newImgInfo,np.uint8)\n",
    "for i in range(0,h):\n",
    "    for j in range(0,w):\n",
    "        #先绘制上半部分\n",
    "        dst[i,j] = img[i,j]\n",
    "        # 绘制镜像x，不变，y= h *2 -y-1\n",
    "        dst[h*2 - i-1,j] =  img[i,j]\n",
    "# 绘制分界线\n",
    "for i in range(0,w):\n",
    "    dst[h,i]= (0,255,255) #将这一行的所有像素都变成黄色，就相当于绘制了一条黄线\n",
    "cv2.imshow(\"result img\",dst)        \n",
    "cv2.waitKey(0)\n",
    "cv2.destroyAllWindows()"
   ]
  },
  {
   "cell_type": "code",
   "execution_count": null,
   "id": "fd5e4099",
   "metadata": {},
   "outputs": [],
   "source": []
  },
  {
   "cell_type": "code",
   "execution_count": null,
   "id": "5f48e038",
   "metadata": {},
   "outputs": [],
   "source": []
  }
 ],
 "metadata": {
  "kernelspec": {
   "display_name": "Python 3",
   "language": "python",
   "name": "python3"
  },
  "language_info": {
   "codemirror_mode": {
    "name": "ipython",
    "version": 3
   },
   "file_extension": ".py",
   "mimetype": "text/x-python",
   "name": "python",
   "nbconvert_exporter": "python",
   "pygments_lexer": "ipython3",
   "version": "3.6.3"
  }
 },
 "nbformat": 4,
 "nbformat_minor": 5
}
