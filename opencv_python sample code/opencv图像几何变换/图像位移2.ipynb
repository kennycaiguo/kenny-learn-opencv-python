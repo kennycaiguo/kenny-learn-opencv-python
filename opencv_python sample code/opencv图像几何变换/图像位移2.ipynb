{
 "cells": [
  {
   "cell_type": "code",
   "execution_count": 6,
   "id": "1b9305fc",
   "metadata": {},
   "outputs": [
    {
     "name": "stdout",
     "output_type": "stream",
     "text": [
      "269 187\n"
     ]
    }
   ],
   "source": [
    "import cv2\n",
    "import numpy as np\n",
    "\n",
    "img = cv2.imread(\"./p03.jpg\")\n",
    "h,w= img.shape[:2]  # shape是一个有3个值的元组，我们这里只需要两个值，使用切片来取第0个和第1个不包括第2个\n",
    "print(w,h)\n",
    "cv2.imshow(\"source pic\",img)\n",
    "dst = np.zeros(img.shape,np.uint8)\n",
    "# 位移处理\n",
    "for i in range(0,h): \n",
    "    for j in range(0,w-100):\n",
    "        dst[i,j+100] = img[i,j]\n",
    "#         dst[i,j] = img[i,j]\n",
    "cv2.imshow(\"moved pic\",dst)\n",
    "cv2.waitKey(0)\n",
    "cv2.destroyAllWindows()"
   ]
  },
  {
   "cell_type": "code",
   "execution_count": null,
   "id": "c332b594",
   "metadata": {},
   "outputs": [],
   "source": []
  }
 ],
 "metadata": {
  "kernelspec": {
   "display_name": "Python 3",
   "language": "python",
   "name": "python3"
  },
  "language_info": {
   "codemirror_mode": {
    "name": "ipython",
    "version": 3
   },
   "file_extension": ".py",
   "mimetype": "text/x-python",
   "name": "python",
   "nbconvert_exporter": "python",
   "pygments_lexer": "ipython3",
   "version": "3.6.3"
  }
 },
 "nbformat": 4,
 "nbformat_minor": 5
}
