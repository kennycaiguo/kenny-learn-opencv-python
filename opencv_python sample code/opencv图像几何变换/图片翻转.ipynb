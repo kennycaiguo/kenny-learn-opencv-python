{
 "cells": [
  {
   "cell_type": "code",
   "execution_count": 3,
   "id": "aaf7b2a6",
   "metadata": {},
   "outputs": [],
   "source": [
    "import cv2\n",
    "import numpy as np\n",
    "\n",
    "img = cv2.imread(\"./lena.png\")\n",
    "h,w= img.shape[:2] # shape是一个有3个值的元组\n",
    "# print(w,h)\n",
    "cv2.imshow(\"source pic\",img)\n",
    "# flip 0：y轴，1：x轴，-1：x和y\n",
    "dstx = cv2.flip(img,1)\n",
    "dsty = cv2.flip(img,0)\n",
    "dstxy = cv2.flip(img,-1)\n",
    "cv2.imshow(\"x轴：\",dstx)\n",
    "cv2.imshow(\"y轴：\",dsty)\n",
    "cv2.imshow(\"x,y轴：\",dstxy)\n",
    "\n",
    "cv2.waitKey(0)\n",
    "cv2.destroyAllWindows()\n"
   ]
  },
  {
   "cell_type": "code",
   "execution_count": null,
   "id": "fc7d1b75",
   "metadata": {},
   "outputs": [],
   "source": []
  }
 ],
 "metadata": {
  "kernelspec": {
   "display_name": "Python 3",
   "language": "python",
   "name": "python3"
  },
  "language_info": {
   "codemirror_mode": {
    "name": "ipython",
    "version": 3
   },
   "file_extension": ".py",
   "mimetype": "text/x-python",
   "name": "python",
   "nbconvert_exporter": "python",
   "pygments_lexer": "ipython3",
   "version": "3.6.3"
  }
 },
 "nbformat": 4,
 "nbformat_minor": 5
}
