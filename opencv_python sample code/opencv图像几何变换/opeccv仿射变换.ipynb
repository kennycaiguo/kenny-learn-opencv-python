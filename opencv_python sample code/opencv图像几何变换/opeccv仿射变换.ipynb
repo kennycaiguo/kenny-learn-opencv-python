{
 "cells": [
  {
   "cell_type": "code",
   "execution_count": 5,
   "id": "3ac3c299",
   "metadata": {},
   "outputs": [
    {
     "name": "stdout",
     "output_type": "stream",
     "text": [
      "762 526\n"
     ]
    }
   ],
   "source": [
    "import cv2\n",
    "import numpy as np\n",
    "\n",
    "# img = cv2.imread(\"./lena.png\")\n",
    "img = cv2.imread(\"./01.jpg\")\n",
    "h,w= img.shape[:2]  # shape是一个有3个值的元组，我们这里只需要两个值，使用切片来取第0个和第1个不包括第2个\n",
    "print(w,h)\n",
    "cv2.imshow(\"source pic\",img)\n",
    "# 这里进行变换的3个点是，左上角，左下角，右上角\n",
    "matSrc = np.float32([[0,0],[0,h-1],[w-1,0]])  # 原来的点\n",
    "matDst = np.float32([[50,50],[300,h-200],[w-300,100]])  # 新的点\n",
    "# 把上面两个矩阵组合起来使用cv2.getAffineTransform，它需要两个参数\n",
    "matAffine = cv2.getAffineTransform(matSrc,matDst) \n",
    "# 进行仿射变换\n",
    "dst =cv2.warpAffine(img,matAffine,(w,h))\n",
    "\n",
    "cv2.imshow(\"仿射变换结果\",dst)\n",
    "cv2.waitKey(0)\n",
    "cv2.destroyAllWindows()"
   ]
  },
  {
   "cell_type": "code",
   "execution_count": null,
   "id": "bde0456a",
   "metadata": {},
   "outputs": [],
   "source": []
  }
 ],
 "metadata": {
  "kernelspec": {
   "display_name": "Python 3",
   "language": "python",
   "name": "python3"
  },
  "language_info": {
   "codemirror_mode": {
    "name": "ipython",
    "version": 3
   },
   "file_extension": ".py",
   "mimetype": "text/x-python",
   "name": "python",
   "nbconvert_exporter": "python",
   "pygments_lexer": "ipython3",
   "version": "3.6.3"
  }
 },
 "nbformat": 4,
 "nbformat_minor": 5
}
