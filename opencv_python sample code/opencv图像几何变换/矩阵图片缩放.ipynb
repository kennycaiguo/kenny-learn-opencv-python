{
 "cells": [
  {
   "cell_type": "code",
   "execution_count": 2,
   "id": "6bb5795d",
   "metadata": {},
   "outputs": [],
   "source": [
    "# 这个例子演示的是用矩阵实现图片的缩放\n",
    "# 图片移动需要一个2x3的矩阵[[a1,a2,b1],[a3,a4,b2]]拆分为一个2x2矩阵和一个2*1矩阵[[a1,a2],[a3,a4]] [[b1],[b2]]\n",
    "# 计算方法 newX = a1*x+a2*y+b1,newY = a3*x + a4*y +b2\n",
    "\n",
    "import cv2\n",
    "import numpy as np\n",
    "\n",
    "img = cv2.imread(\"./lena.png\")\n",
    "h,w= img.shape[:2] # shape是一个有3个值的元组，我们这里只需要两个值，使用切片来取第0个和第1个不包括第2个\n",
    "# print(w,h)\n",
    "cv2.imshow(\"source pic\",img)\n",
    "matScale=np.float32([[0.5,0,0],[0,0.5,0]])\n",
    "dst = cv2.warpAffine(img,matScale,(w//2,h//2))\n",
    "# for i in range(0,h):\n",
    "#     for j in range(0,w):\n",
    "#         #先绘制上半部分\n",
    "#         dst[i,j] = img[i,j]\n",
    "#         # 绘制镜像x，不变，y= h *2 -y-1\n",
    "#         dst[h*2 - i-1,j] =  img[i,j]\n",
    "# # 绘制分界线\n",
    "# for i in range(0,w):\n",
    "#     dst[h,i]= (0,255,255) #将这一行的所有像素都变成黄色，就相当于绘制了一条黄线\n",
    "\n",
    "\n",
    "\n",
    "\n",
    "\n",
    "cv2.imshow(\"result img\",dst)        \n",
    "cv2.waitKey(0)\n",
    "cv2.destroyAllWindows()"
   ]
  },
  {
   "cell_type": "code",
   "execution_count": null,
   "id": "57490eb6",
   "metadata": {},
   "outputs": [],
   "source": []
  }
 ],
 "metadata": {
  "kernelspec": {
   "display_name": "Python 3",
   "language": "python",
   "name": "python3"
  },
  "language_info": {
   "codemirror_mode": {
    "name": "ipython",
    "version": 3
   },
   "file_extension": ".py",
   "mimetype": "text/x-python",
   "name": "python",
   "nbconvert_exporter": "python",
   "pygments_lexer": "ipython3",
   "version": "3.6.3"
  }
 },
 "nbformat": 4,
 "nbformat_minor": 5
}
