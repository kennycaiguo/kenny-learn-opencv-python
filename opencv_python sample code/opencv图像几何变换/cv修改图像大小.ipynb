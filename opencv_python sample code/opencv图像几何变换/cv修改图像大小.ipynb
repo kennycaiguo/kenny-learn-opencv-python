{
 "cells": [
  {
   "cell_type": "code",
   "execution_count": 4,
   "id": "5fbd8405",
   "metadata": {},
   "outputs": [
    {
     "name": "stdout",
     "output_type": "stream",
     "text": [
      "(183, 275, 3)\n"
     ]
    }
   ],
   "source": [
    "import cv2\n",
    "# 图片放大\n",
    "img = cv2.imread('./p01.jpg')\n",
    "info = img.shape\n",
    "print(info)\n",
    "height = info[0] \n",
    "width = info[1]\n",
    "mode = info[2]\n",
    "\n",
    "new_h = height *2\n",
    "new_w = width *2\n",
    "# cv2 resize常用算法：最近邻域插值，双线性插值，像素关系重采样，立方插值\n",
    "new_img = cv2.resize(img,(new_w,new_h))\n",
    "cv2.imshow(\"new size\",new_img)\n",
    "cv2.waitKey(0)\n",
    "cv2.destroyAllWindows()"
   ]
  },
  {
   "cell_type": "code",
   "execution_count": null,
   "id": "f3a7be3f",
   "metadata": {},
   "outputs": [],
   "source": [
    "# 最近邻域插值，双线性插值原理\n",
    "\n"
   ]
  }
 ],
 "metadata": {
  "kernelspec": {
   "display_name": "Python 3",
   "language": "python",
   "name": "python3"
  },
  "language_info": {
   "codemirror_mode": {
    "name": "ipython",
    "version": 3
   },
   "file_extension": ".py",
   "mimetype": "text/x-python",
   "name": "python",
   "nbconvert_exporter": "python",
   "pygments_lexer": "ipython3",
   "version": "3.6.3"
  }
 },
 "nbformat": 4,
 "nbformat_minor": 5
}
