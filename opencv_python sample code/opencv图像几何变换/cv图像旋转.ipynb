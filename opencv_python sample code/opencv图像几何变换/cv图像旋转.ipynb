{
 "cells": [
  {
   "cell_type": "code",
   "execution_count": 4,
   "id": "93dc3080",
   "metadata": {},
   "outputs": [],
   "source": [
    "import cv2\n",
    "import numpy as np\n",
    "\n",
    "img = cv2.imread('./peacock.jpg')\n",
    "cv2.imshow('org',img)\n",
    "\n",
    "# def rotate(image, angle, center=None, scale=1.0):  # 这个是不好的旋转\n",
    "#     # grab the dimensions of the image\n",
    "#     (h, w) = image.shape[:2]\n",
    "\n",
    "#     # if the center is None, initialize it as the center of\n",
    "#     # the image\n",
    "#     if center is None:\n",
    "#         center = (w // 2, h // 2)\n",
    "\n",
    "#     # perform the rotation\n",
    "#     M = cv2.getRotationMatrix2D(center, angle, scale)\n",
    "#     rotated = cv2.warpAffine(image, M, (w, h))\n",
    "\n",
    "#     # return the rotated image\n",
    "#     return rotated\n",
    "\n",
    "def rotate_bound(image, angle):\n",
    "    # grab the dimensions of the image and then determine the\n",
    "    # center\n",
    "    (h, w) = image.shape[:2]\n",
    "    (cX, cY) = (w / 2, h / 2)\n",
    "\n",
    "    # grab the rotation matrix (applying the negative of the\n",
    "    # angle to rotate clockwise), then grab the sine and cosine\n",
    "    # (i.e., the rotation components of the matrix)\n",
    "    M = cv2.getRotationMatrix2D((cX, cY), angle, 1.0)\n",
    "    cos = np.abs(M[0, 0])\n",
    "    sin = np.abs(M[0, 1])\n",
    "\n",
    "    # compute the new bounding dimensions of the image\n",
    "    nW = int((h * sin) + (w * cos))\n",
    "    nH = int((h * cos) + (w * sin))\n",
    "\n",
    "    # adjust the rotation matrix to take into account translation\n",
    "    M[0, 2] += (nW / 2) - cX\n",
    "    M[1, 2] += (nH / 2) - cY\n",
    "\n",
    "    # perform the actual rotation and return the image\n",
    "    return cv2.warpAffine(image, M, (nW, nH))\n",
    "\n",
    "\n",
    "# img_rot = rotate(img,120)\n",
    "# cv2.imshow(\"rotated\",img_rot)\n",
    "\n",
    "img_rot2 = rotate_bound(img,120)\n",
    "cv2.imshow(\"rotated_bound\",img_rot2)\n",
    "cv2.waitKey(0)\n",
    "cv2.destroyAllWindows()"
   ]
  },
  {
   "cell_type": "code",
   "execution_count": null,
   "id": "38cc18d6",
   "metadata": {},
   "outputs": [],
   "source": []
  }
 ],
 "metadata": {
  "kernelspec": {
   "display_name": "Python 3",
   "language": "python",
   "name": "python3"
  },
  "language_info": {
   "codemirror_mode": {
    "name": "ipython",
    "version": 3
   },
   "file_extension": ".py",
   "mimetype": "text/x-python",
   "name": "python",
   "nbconvert_exporter": "python",
   "pygments_lexer": "ipython3",
   "version": "3.6.3"
  }
 },
 "nbformat": 4,
 "nbformat_minor": 5
}
