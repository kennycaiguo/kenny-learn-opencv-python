{
 "cells": [
  {
   "cell_type": "code",
   "execution_count": 1,
   "id": "6a0034b5",
   "metadata": {},
   "outputs": [],
   "source": [
    "import cv2\n",
    "import numpy as np\n",
    "\n",
    "img = cv2.imread('./p01.jpg')\n",
    "cv2.imshow('org',img)\n",
    "# 矩阵相乘，前提是第一个矩阵的列数必须等于第二个矩阵的行数\n",
    "# opencv的warpAffine函数可以利用一个变换矩阵实现图像的平移，旋转，仿射等等变换但是它需要一个2*3的矩阵\n",
    "cv2.waitKey(0)\n",
    "cv2.destroyAllWindows()"
   ]
  },
  {
   "cell_type": "code",
   "execution_count": null,
   "id": "2f7f08fe",
   "metadata": {},
   "outputs": [],
   "source": []
  }
 ],
 "metadata": {
  "kernelspec": {
   "display_name": "Python 3",
   "language": "python",
   "name": "python3"
  },
  "language_info": {
   "codemirror_mode": {
    "name": "ipython",
    "version": 3
   },
   "file_extension": ".py",
   "mimetype": "text/x-python",
   "name": "python",
   "nbconvert_exporter": "python",
   "pygments_lexer": "ipython3",
   "version": "3.6.3"
  }
 },
 "nbformat": 4,
 "nbformat_minor": 5
}
