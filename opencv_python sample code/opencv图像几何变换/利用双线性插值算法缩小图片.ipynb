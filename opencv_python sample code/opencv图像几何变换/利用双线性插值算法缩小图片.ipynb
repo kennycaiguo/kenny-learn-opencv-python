{
 "cells": [
  {
   "cell_type": "code",
   "execution_count": 1,
   "id": "853f2dc5",
   "metadata": {
    "scrolled": true
   },
   "outputs": [],
   "source": [
    "import cv2\n",
    "import numpy as np\n",
    "\n",
    "img = cv2.imread('./p02.jpg')\n",
    "# 获取图片的形状，返回的是(高度，宽度，通道数)\n",
    "cv2.imshow('original',img)\n",
    "info = img.shape\n",
    "h = info[0]\n",
    "w = info[1]\n",
    "# 指定目标高度和宽度\n",
    "new_h = h//2\n",
    "new_w = w//2\n",
    "#创建空白模板\n",
    "dstImg = np.zeros((new_h,new_w,3),np.uint8)\n",
    "# 使用双线性插值算法\n",
    "for i in range(0,new_h):\n",
    "    for j in range(0,new_w):\n",
    "        iNew = i *(h//new_h)\n",
    "        jNew = j *(w//new_w)\n",
    "        dstImg[i,j] = img[iNew,jNew]        \n",
    "cv2.imshow(\"resized\",dstImg)    \n",
    "cv2.waitKey(0)\n",
    "cv2.destroyAllWindows()"
   ]
  },
  {
   "cell_type": "code",
   "execution_count": null,
   "id": "a85d71d0",
   "metadata": {},
   "outputs": [],
   "source": []
  }
 ],
 "metadata": {
  "kernelspec": {
   "display_name": "Python 3",
   "language": "python",
   "name": "python3"
  },
  "language_info": {
   "codemirror_mode": {
    "name": "ipython",
    "version": 3
   },
   "file_extension": ".py",
   "mimetype": "text/x-python",
   "name": "python",
   "nbconvert_exporter": "python",
   "pygments_lexer": "ipython3",
   "version": "3.6.3"
  }
 },
 "nbformat": 4,
 "nbformat_minor": 5
}
