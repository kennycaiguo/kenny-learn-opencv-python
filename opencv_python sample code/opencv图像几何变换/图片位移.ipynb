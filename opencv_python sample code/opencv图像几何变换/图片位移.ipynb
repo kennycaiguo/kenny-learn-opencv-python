{
 "cells": [
  {
   "cell_type": "code",
   "execution_count": null,
   "id": "61e55afd",
   "metadata": {},
   "outputs": [],
   "source": [
    "import cv2\n",
    "import numpy as np\n",
    "img = cv2.imread('./p03.jpg')\n",
    "cv2.imshow(\"org\",img)\n",
    "info = img.shape\n",
    "h = info[0]\n",
    "w = info[1]\n",
    "# 定义一个2行3列的矩阵\n",
    "matShift = np.float32([[1,0,100],[0,1,100]])\n",
    "# 实现位移\n",
    "dst = cv2.warpAffine(img,matShift,(h,w))\n",
    "cv2.imshow(\"dst\",dst)\n",
    "cv2.waitKey(0)\n",
    "cv2.destroyAllWindows()"
   ]
  },
  {
   "cell_type": "code",
   "execution_count": null,
   "id": "45ecfdc6",
   "metadata": {},
   "outputs": [],
   "source": []
  }
 ],
 "metadata": {
  "kernelspec": {
   "display_name": "Python 3",
   "language": "python",
   "name": "python3"
  },
  "language_info": {
   "codemirror_mode": {
    "name": "ipython",
    "version": 3
   },
   "file_extension": ".py",
   "mimetype": "text/x-python",
   "name": "python",
   "nbconvert_exporter": "python",
   "pygments_lexer": "ipython3",
   "version": "3.6.3"
  }
 },
 "nbformat": 4,
 "nbformat_minor": 5
}
