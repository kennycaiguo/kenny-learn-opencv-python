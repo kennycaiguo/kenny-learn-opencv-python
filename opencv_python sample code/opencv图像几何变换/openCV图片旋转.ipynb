{
 "cells": [
  {
   "cell_type": "code",
   "execution_count": 3,
   "id": "1045ae09",
   "metadata": {},
   "outputs": [],
   "source": [
    "import cv2\n",
    "import numpy as np\n",
    "\n",
    "img = cv2.imread('./peacock.jpg')\n",
    "cv2.imshow('org',img)\n",
    "\n",
    "h,w = img.shape[:2]\n",
    "# 定义旋转矩阵 getRotationMatrix2D(center, angle, scale) -> retval\n",
    "matRot = cv2.getRotationMatrix2D((h * 0.5,w * 0.5),45,0.5)\n",
    "dst = cv2.warpAffine(img,matRot,(w,h))\n",
    "cv2.imshow(\"rotated\",dst)\n",
    "cv2.waitKey(0)\n",
    "cv2.destroyAllWindows()"
   ]
  },
  {
   "cell_type": "code",
   "execution_count": null,
   "id": "38c9dea1",
   "metadata": {},
   "outputs": [],
   "source": []
  }
 ],
 "metadata": {
  "kernelspec": {
   "display_name": "Python 3",
   "language": "python",
   "name": "python3"
  },
  "language_info": {
   "codemirror_mode": {
    "name": "ipython",
    "version": 3
   },
   "file_extension": ".py",
   "mimetype": "text/x-python",
   "name": "python",
   "nbconvert_exporter": "python",
   "pygments_lexer": "ipython3",
   "version": "3.6.3"
  }
 },
 "nbformat": 4,
 "nbformat_minor": 5
}
