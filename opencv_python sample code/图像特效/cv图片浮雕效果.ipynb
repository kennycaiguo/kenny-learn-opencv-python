{
 "cells": [
  {
   "cell_type": "code",
   "execution_count": 2,
   "id": "5fd6b259",
   "metadata": {},
   "outputs": [],
   "source": [
    "# 实现图片的浮雕效果\n",
    "import cv2\n",
    "import numpy as np\n",
    "\n",
    "img = cv2.imread('./01.jpg')\n",
    "h,w = img.shape[:2] # shape属性是一个有3个元素的元组，我们只需要前面两个\n",
    "# 浮雕效果计算公式： newP = gray0-gray1 + 150\n",
    "# 灰度化\n",
    "gray = cv2.cvtColor(img,cv2.COLOR_BGR2GRAY)\n",
    "# 定义一个空白图片来接收结果\n",
    "dst = np.zeros((h,w,1),np.uint8)\n",
    "# 双重循环实现浮雕效果\n",
    "for i in range(0,h):\n",
    "    for j in range(0,w-1):\n",
    "        grayP0 = int(gray[i,j])\n",
    "        grayP1 = int(gray[i,j+1])\n",
    "        newP =grayP0- grayP1 + 150\n",
    "        if newP > 255:\n",
    "            newP = 255\n",
    "        if newP < 0:\n",
    "            newP =0\n",
    "        dst[i,j] = newP\n",
    "cv2.imshow(\"result\",dst)        \n",
    "cv2.waitKey(0)\n",
    "cv2.destroyAllWindows()"
   ]
  },
  {
   "cell_type": "code",
   "execution_count": null,
   "id": "9b58d572",
   "metadata": {},
   "outputs": [],
   "source": []
  }
 ],
 "metadata": {
  "kernelspec": {
   "display_name": "Python 3",
   "language": "python",
   "name": "python3"
  },
  "language_info": {
   "codemirror_mode": {
    "name": "ipython",
    "version": 3
   },
   "file_extension": ".py",
   "mimetype": "text/x-python",
   "name": "python",
   "nbconvert_exporter": "python",
   "pygments_lexer": "ipython3",
   "version": "3.6.3"
  }
 },
 "nbformat": 4,
 "nbformat_minor": 5
}
