{
 "cells": [
  {
   "cell_type": "code",
   "execution_count": 1,
   "id": "6fbd3476",
   "metadata": {},
   "outputs": [],
   "source": [
    "import cv2\n",
    "import numpy as np\n",
    "\n",
    "# 实现图片颜色反转\n",
    "img = cv2.imread('./01.jpg')\n",
    "h,w = img.shape[:2] # shape属性是一个有3个元素的元组，我们只需要前面两个\n",
    "\n",
    "dst = np.zeros((h,w,3),np.uint8)\n",
    "# 彩色颜色反转，255-颜色值\n",
    "for i in range(0,h):\n",
    "    for j in range(0,w):\n",
    "        (b,g,r) = img[i,j]\n",
    "        dst[i,j] =(255-b,255-g,255-r) \n",
    "cv2.imshow(\"result\",dst)        \n",
    "cv2.waitKey(0)\n",
    "cv2.destroyAllWindows()"
   ]
  },
  {
   "cell_type": "code",
   "execution_count": null,
   "id": "d5bec23a",
   "metadata": {},
   "outputs": [],
   "source": []
  }
 ],
 "metadata": {
  "kernelspec": {
   "display_name": "Python 3",
   "language": "python",
   "name": "python3"
  },
  "language_info": {
   "codemirror_mode": {
    "name": "ipython",
    "version": 3
   },
   "file_extension": ".py",
   "mimetype": "text/x-python",
   "name": "python",
   "nbconvert_exporter": "python",
   "pygments_lexer": "ipython3",
   "version": "3.6.3"
  }
 },
 "nbformat": 4,
 "nbformat_minor": 5
}
