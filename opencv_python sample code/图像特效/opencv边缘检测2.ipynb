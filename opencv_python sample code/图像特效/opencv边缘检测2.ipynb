{
 "cells": [
  {
   "cell_type": "code",
   "execution_count": 2,
   "id": "f91bcd11",
   "metadata": {},
   "outputs": [],
   "source": [
    "# 手动实现sobel算子\n",
    "import cv2\n",
    "import numpy as np\n",
    "import math\n",
    "\n",
    "img = cv2.imread('./01.jpg')\n",
    "h,w = img.shape[:2] # shape属性是一个有3个元素的元组，我们只需要前面两个\n",
    "\n",
    "#边缘检测基于sobel算子\n",
    "# 1，灰度化\n",
    "gray = cv2.cvtColor(img,cv2.COLOR_BGR2GRAY)\n",
    "# 2.定义一个目标图片用来保存结果\n",
    "dst = np.zeros(gray.shape,np.uint8) # 需要保存的是灰度信息，所以使用gray的shape，它只有一个通道\n",
    "for i in range(0,h-2):  # 减去2是为了防止溢出\n",
    "    for j in range(w-2):\n",
    "        # 计算竖直方向的梯度\n",
    "        gy = gray[i,j] * 1 + gray[i,j+1] *2 + gray[i,j+2] *1- gray[i+2,j]*1 - gray[i+2,j+1]*2- gray[i+2,j+2]*1\n",
    "        # 计算x方向的梯度\n",
    "        gx = gray[i,j]*1 -gray[i,j+2]*1 + gray[i+1,j+1]*2-gray[i+1,j+2]*2 + gray[i+2,j]*1 -gray[i+2,j+2]*1\n",
    "        # 计算梯度\n",
    "        grad = math.sqrt(gx*gx + gy*gy)\n",
    "        # 阈值判断\n",
    "        if grad > 50:\n",
    "            dst[i,j] = 255\n",
    "        else:\n",
    "            dst[i,j] =0\n",
    "cv2.imshow(\"result\",dst)            \n",
    "cv2.waitKey(0)\n",
    "cv2.destroyAllWindows()"
   ]
  },
  {
   "cell_type": "code",
   "execution_count": null,
   "id": "469cca0a",
   "metadata": {},
   "outputs": [],
   "source": []
  }
 ],
 "metadata": {
  "kernelspec": {
   "display_name": "Python 3",
   "language": "python",
   "name": "python3"
  },
  "language_info": {
   "codemirror_mode": {
    "name": "ipython",
    "version": 3
   },
   "file_extension": ".py",
   "mimetype": "text/x-python",
   "name": "python",
   "nbconvert_exporter": "python",
   "pygments_lexer": "ipython3",
   "version": "3.6.3"
  }
 },
 "nbformat": 4,
 "nbformat_minor": 5
}
