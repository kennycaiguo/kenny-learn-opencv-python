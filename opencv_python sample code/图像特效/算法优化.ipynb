{
 "cells": [
  {
   "cell_type": "code",
   "execution_count": 3,
   "id": "b585af86",
   "metadata": {},
   "outputs": [],
   "source": [
    "import cv2\n",
    "import numpy as np\n",
    "\n",
    "img = cv2.imread('./01.jpg')\n",
    "# img = cv2.imread('./lena.png',1)\n",
    "cv2.imshow('source pic',img)\n",
    "h =  img.shape[0]\n",
    "w = img.shape[1]\n",
    "# 先生成一个空图片大小和原图片一样\n",
    "dst = np.zeros((h,w,3),np.uint8)\n",
    "# 手动灰度处理，利用循环逐个像素处理\n",
    "# r * 0.299 + g * 0.587 + b * 0.114 # 将这个式子的每一项乘以4(也可以乘以100，1000，10000数字越大误差越小)，等待结果后再除于4\n",
    "for i in range(0,h):\n",
    "    for j in range(0,w):\n",
    "        # 读取像素颜色\n",
    "        (b,g,r) = img[i,j]\n",
    "        # 将bgr的值的和除于3，就得到灰度值\n",
    "        # 防止越界处理\n",
    "        b = int(b)\n",
    "        g = int(g)\n",
    "        r = int(r)\n",
    "#         gray_val =(r *1+g*2+b*1)//4\n",
    "        #继续优化\n",
    "        gray_val =(r +(g << 1)+b) >> 2 # 使用移位运算比乘除法快\n",
    "        # 修改像素颜色\n",
    "        dst[i,j] = np.uint8(gray_val)\n",
    "cv2.imshow(\"result\",dst)        \n",
    "cv2.waitKey(0)\n",
    "cv2.destroyAllWindows()"
   ]
  },
  {
   "cell_type": "code",
   "execution_count": null,
   "id": "969628e4",
   "metadata": {},
   "outputs": [],
   "source": []
  }
 ],
 "metadata": {
  "kernelspec": {
   "display_name": "Python 3",
   "language": "python",
   "name": "python3"
  },
  "language_info": {
   "codemirror_mode": {
    "name": "ipython",
    "version": 3
   },
   "file_extension": ".py",
   "mimetype": "text/x-python",
   "name": "python",
   "nbconvert_exporter": "python",
   "pygments_lexer": "ipython3",
   "version": "3.6.3"
  }
 },
 "nbformat": 4,
 "nbformat_minor": 5
}
