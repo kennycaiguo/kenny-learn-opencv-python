{
 "cells": [
  {
   "cell_type": "code",
   "execution_count": 12,
   "id": "ef581d68",
   "metadata": {},
   "outputs": [],
   "source": [
    "import cv2\n",
    "import numpy as np\n",
    "\n",
    "# 需要进入融合的两张图片的大小必须完全一致\n",
    "img = cv2.imread('./01.jpg')\n",
    "h,w = img.shape[:2] # shape属性是一个有3个元素的元组，我们只需要前面两个\n",
    "img2 = cv2.imread('./flowers.jpg')\n",
    "# cv2.imshow('img2',img2)\n",
    "# print(img.shape,img2.shape)\n",
    "# 融合原理：dst = src1 * a + src2*(1-a)\n",
    "dst = np.zeros(img.shape,np.uint8)\n",
    "a = 0.75\n",
    "#  dst[i,j] = img[i,j] * a + img2[i,j] * (1-a)\n",
    "for i in range(0,h):\n",
    "    for j in range(0,w):\n",
    "        dst[i,j] = img[i,j] * a + img2[i,j] * (1-a)\n",
    "cv2.imshow(\"result\",dst)\n",
    "cv2.waitKey(0)\n",
    "cv2.destroyAllWindows()"
   ]
  },
  {
   "cell_type": "code",
   "execution_count": null,
   "id": "7f38d08d",
   "metadata": {},
   "outputs": [],
   "source": []
  }
 ],
 "metadata": {
  "kernelspec": {
   "display_name": "Python 3",
   "language": "python",
   "name": "python3"
  },
  "language_info": {
   "codemirror_mode": {
    "name": "ipython",
    "version": 3
   },
   "file_extension": ".py",
   "mimetype": "text/x-python",
   "name": "python",
   "nbconvert_exporter": "python",
   "pygments_lexer": "ipython3",
   "version": "3.6.3"
  }
 },
 "nbformat": 4,
 "nbformat_minor": 5
}
