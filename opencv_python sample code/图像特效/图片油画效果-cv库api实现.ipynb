{
 "cells": [
  {
   "cell_type": "code",
   "execution_count": 2,
   "id": "4376ded6",
   "metadata": {},
   "outputs": [
    {
     "data": {
      "text/plain": [
       "-1"
      ]
     },
     "execution_count": 2,
     "metadata": {},
     "output_type": "execute_result"
    }
   ],
   "source": [
    "# 使用opencv API 实现油画效果\n",
    "import numpy as np\n",
    "import cv2\n",
    "\n",
    "img=cv2.imread('./01.jpg',1)\n",
    "oil_eff_pic = cv2.stylization(img, sigma_s=60, sigma_r=0.6)\n",
    "# sigma_s controls the size of the neighborhood. Range 1 - 200\n",
    "# sigma_r controls the how dissimilar colors within the neighborhood will be averaged.\n",
    "# A larger sigma_r results in large regions of constant color. Range 0 - 1\n",
    "\n",
    "cv2.imshow('dst',oil_eff_pic)\n",
    "cv2.waitKey(0)\n",
    "\n"
   ]
  },
  {
   "cell_type": "code",
   "execution_count": null,
   "id": "fedf183d",
   "metadata": {},
   "outputs": [],
   "source": []
  }
 ],
 "metadata": {
  "kernelspec": {
   "display_name": "Python 3",
   "language": "python",
   "name": "python3"
  },
  "language_info": {
   "codemirror_mode": {
    "name": "ipython",
    "version": 3
   },
   "file_extension": ".py",
   "mimetype": "text/x-python",
   "name": "python",
   "nbconvert_exporter": "python",
   "pygments_lexer": "ipython3",
   "version": "3.6.3"
  }
 },
 "nbformat": 4,
 "nbformat_minor": 5
}
