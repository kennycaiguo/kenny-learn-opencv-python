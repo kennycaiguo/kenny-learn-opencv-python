{
 "cells": [
  {
   "cell_type": "code",
   "execution_count": 5,
   "id": "f86931bb",
   "metadata": {},
   "outputs": [],
   "source": [
    "import cv2\n",
    "import numpy as np\n",
    "\n",
    "# 需要进入融合的两张图片的大小必须完全一致\n",
    "# 这个实例演示的是从两张图片各去一部分然后进行融合\n",
    "img = cv2.imread('./01.jpg')\n",
    "h,w = img.shape[:2] # shape属性是一个有3个元素的元组，我们只需要前面两个\n",
    "img2 = cv2.imread('./flowers.jpg')\n",
    "# 定义ROI\n",
    "roiH = h //2\n",
    "roiW = w//2\n",
    "imgRoi = img[0:roiH,0:roiW]\n",
    "img2Roi =img2[0:roiH,0:roiW]\n",
    "# 融合原理：dst = src1 * a + src2*(1-a)\n",
    "dst = np.zeros((roiH,roiW,3),np.uint8)\n",
    "dst = cv2.addWeighted(imgRoi,0.5,img2Roi,0.5,0)\n",
    "# dst = cv2.addWeighted(imgRoi,0.7,img2Roi,0.3,1)\n",
    "cv2.imshow(\"result\",dst)\n",
    "cv2.waitKey(0)\n",
    "cv2.destroyAllWindows()"
   ]
  },
  {
   "cell_type": "code",
   "execution_count": null,
   "id": "dd8d8fdf",
   "metadata": {},
   "outputs": [],
   "source": []
  }
 ],
 "metadata": {
  "kernelspec": {
   "display_name": "Python 3",
   "language": "python",
   "name": "python3"
  },
  "language_info": {
   "codemirror_mode": {
    "name": "ipython",
    "version": 3
   },
   "file_extension": ".py",
   "mimetype": "text/x-python",
   "name": "python",
   "nbconvert_exporter": "python",
   "pygments_lexer": "ipython3",
   "version": "3.6.3"
  }
 },
 "nbformat": 4,
 "nbformat_minor": 5
}
