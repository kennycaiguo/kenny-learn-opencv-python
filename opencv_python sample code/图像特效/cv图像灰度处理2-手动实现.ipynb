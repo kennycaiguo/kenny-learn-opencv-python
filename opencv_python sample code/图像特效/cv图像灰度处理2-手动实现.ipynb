{
 "cells": [
  {
   "cell_type": "code",
   "execution_count": 9,
   "id": "7bcbc933",
   "metadata": {},
   "outputs": [],
   "source": [
    "import cv2\n",
    "import numpy as np\n",
    "\n",
    "img = cv2.imread('./01.jpg')\n",
    "# img = cv2.imread('./lena.png',1)\n",
    "cv2.imshow('source pic',img)\n",
    "h =  img.shape[0]\n",
    "w = img.shape[1]\n",
    "# 先生成一个空图片大小和原图片一样\n",
    "dst = np.zeros((h,w,3),np.uint8)\n",
    "# 手动灰度处理，利用循环逐个像素处理\n",
    "for i in range(0,h):\n",
    "    for j in range(0,w):\n",
    "        # 读取像素颜色\n",
    "        (b,g,r) = img[i,j]\n",
    "        # 将bgr的值的和除于3，就得到灰度值\n",
    "        # 防止越界处理\n",
    "        gray_val =(int(b)+int(g)+int(r))//3\n",
    "        # 修改像素颜色\n",
    "        dst[i,j] = np.uint8(gray_val)\n",
    "cv2.imshow(\"result\",dst)        \n",
    "cv2.waitKey(0)\n",
    "cv2.destroyAllWindows()"
   ]
  },
  {
   "cell_type": "code",
   "execution_count": null,
   "id": "41891320",
   "metadata": {},
   "outputs": [],
   "source": []
  }
 ],
 "metadata": {
  "kernelspec": {
   "display_name": "Python 3",
   "language": "python",
   "name": "python3"
  },
  "language_info": {
   "codemirror_mode": {
    "name": "ipython",
    "version": 3
   },
   "file_extension": ".py",
   "mimetype": "text/x-python",
   "name": "python",
   "nbconvert_exporter": "python",
   "pygments_lexer": "ipython3",
   "version": "3.6.3"
  }
 },
 "nbformat": 4,
 "nbformat_minor": 5
}
