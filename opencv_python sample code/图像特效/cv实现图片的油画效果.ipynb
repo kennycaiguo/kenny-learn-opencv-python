{
 "cells": [
  {
   "cell_type": "code",
   "execution_count": null,
   "id": "bf260c27",
   "metadata": {},
   "outputs": [],
   "source": [
    "# opencv实现图片的油画效果，很慢，效果不好\n",
    "\n",
    "import cv2\n",
    "import numpy as np\n",
    "\n",
    "img = cv2.imread('./01.jpg')\n",
    "cv2.imshow(\"source pic \",img)\n",
    "h,w = img.shape[:2] # shape属性是一个有3个元素的元组，我们只需要前面两个\n",
    "#实现步骤\n",
    "#1.转换为灰度图\n",
    "gray = cv2.cvtColor(img,cv2.COLOR_BGR2GRAY)\n",
    "dst = np.zeros((h,w,3),np.uint8)\n",
    "# 2 把图片分成几个小方块\n",
    "for i in range(4,h-4):\n",
    "    for j in range(4,w-4):\n",
    "        # 定义8个灰度等级\n",
    "        array1 = np.zeros(8,np.uint8)\n",
    "        for m in range(-4,4):\n",
    "            for n in range(-4,4):                \n",
    "                # 3 将灰度等级划分为4个段，以64为一段如 0-63 64-127\n",
    "                p1 = int(gray[i+m,j+n]/32)\n",
    "                array1[p1] = array1[p1]+1\n",
    "        currentMax = array1[0]    # 保存最大值的保留\n",
    "        l = 0 #保存段\n",
    "        # 找到每一个方块的最大值，\n",
    "        #遍历array1,获取最大值\n",
    "        for k in range(0,8):\n",
    "            if currentMax < array1[k]:\n",
    "                currentMax = array1[k] # 更新最大值\n",
    "                # 记录最大值段\n",
    "                l = k\n",
    "        # 4.求这些最大值的均值,简化运算\n",
    "        for x in range(-4,4):\n",
    "            for y in range(-4,4):\n",
    "                if gray[i+x,j+y] >= (l*32) and gray[i+x,j+y] <= ((l+1) * 32):\n",
    "                    (b,g,r) = img[i+x,j+y]\n",
    "                    \n",
    "        # 5.用求得的平均值来替代像素值\n",
    "        dst[i,j] = (b,g,r)\n",
    "cv2.imshow(\"result\",dst)\n",
    "cv2.waitKey(0)\n",
    "cv2.destroyAllWindows()"
   ]
  },
  {
   "cell_type": "code",
   "execution_count": null,
   "id": "b0523854",
   "metadata": {},
   "outputs": [],
   "source": []
  }
 ],
 "metadata": {
  "kernelspec": {
   "display_name": "Python 3",
   "language": "python",
   "name": "python3"
  },
  "language_info": {
   "codemirror_mode": {
    "name": "ipython",
    "version": 3
   },
   "file_extension": ".py",
   "mimetype": "text/x-python",
   "name": "python",
   "nbconvert_exporter": "python",
   "pygments_lexer": "ipython3",
   "version": "3.6.3"
  }
 },
 "nbformat": 4,
 "nbformat_minor": 5
}
