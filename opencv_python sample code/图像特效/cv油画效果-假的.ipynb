{
 "cells": [
  {
   "cell_type": "code",
   "execution_count": 5,
   "id": "2df51166",
   "metadata": {},
   "outputs": [],
   "source": [
    "import cv2\n",
    "import numpy as np  \n",
    "import random\n",
    "\n",
    "# 油画效果\n",
    "def oil_effect(img):\n",
    "    h, w, n = img.shape\n",
    "    new_img = np.zeros((h - 2, w, n), dtype=np.uint8)\n",
    "    for i in range(h - 2):\n",
    "        for j in range(w):\n",
    "            if random.randint(1, 10) % 3 == 0:\n",
    "                new_img[i, j] = img[i - 1, j]\n",
    "            elif random.randint(1, 10) % 2 == 0:\n",
    "                new_img[i, j] = img[i + 1, j]\n",
    "            else:\n",
    "                new_img[i, j] = img[i + 2, j]\n",
    "    return new_img\n",
    "\n",
    "if __name__ == \"__main__\":\n",
    "    img = cv2.imread(\"01.jpg\")\n",
    "    oil_img = oil_effect(img)\n",
    "    cv2.imshow(\"original\", img)\n",
    "    cv2.imshow(\"oil paint\", oil_img)\n",
    "    cv2.waitKey()\n",
    "    cv2.destroyAllWindows()\n",
    "\n",
    "# 作者：极客学编程\n",
    "# 链接：https://juejin.cn/post/6992051940024647693\n"
   ]
  },
  {
   "cell_type": "code",
   "execution_count": null,
   "id": "2b288a6c",
   "metadata": {},
   "outputs": [],
   "source": []
  }
 ],
 "metadata": {
  "kernelspec": {
   "display_name": "Python 3",
   "language": "python",
   "name": "python3"
  },
  "language_info": {
   "codemirror_mode": {
    "name": "ipython",
    "version": 3
   },
   "file_extension": ".py",
   "mimetype": "text/x-python",
   "name": "python",
   "nbconvert_exporter": "python",
   "pygments_lexer": "ipython3",
   "version": "3.6.3"
  }
 },
 "nbformat": 4,
 "nbformat_minor": 5
}
