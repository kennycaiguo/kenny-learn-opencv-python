{
 "cells": [
  {
   "cell_type": "code",
   "execution_count": 2,
   "id": "63c02b5a",
   "metadata": {},
   "outputs": [],
   "source": [
    "import cv2\n",
    "import numpy as np\n",
    "#1 imread方法可以将一张彩色图片以灰度图的形式读入\n",
    "gray_img = cv2.imread('./01.jpg',0)\n",
    "cv2.imshow('read gray',gray_img)\n",
    "#2 cvtColor\n",
    "# img = cv2.imread('./01.jpg')\n",
    "# cv2.imshow('source pic',img)\n",
    "# gray = cv2.cvtColor(img,cv2.COLOR_BGR2GRAY)\n",
    "# cv2.imshow('sogray pic',gray)\n",
    "cv2.waitKey(0)\n",
    "cv2.destroyAllWindows()"
   ]
  },
  {
   "cell_type": "code",
   "execution_count": null,
   "id": "f633e69b",
   "metadata": {},
   "outputs": [],
   "source": []
  }
 ],
 "metadata": {
  "kernelspec": {
   "display_name": "Python 3",
   "language": "python",
   "name": "python3"
  },
  "language_info": {
   "codemirror_mode": {
    "name": "ipython",
    "version": 3
   },
   "file_extension": ".py",
   "mimetype": "text/x-python",
   "name": "python",
   "nbconvert_exporter": "python",
   "pygments_lexer": "ipython3",
   "version": "3.6.3"
  }
 },
 "nbformat": 4,
 "nbformat_minor": 5
}
