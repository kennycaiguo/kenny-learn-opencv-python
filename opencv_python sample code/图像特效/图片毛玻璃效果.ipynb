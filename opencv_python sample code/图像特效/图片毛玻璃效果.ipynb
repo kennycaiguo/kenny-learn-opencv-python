{
 "cells": [
  {
   "cell_type": "code",
   "execution_count": 4,
   "id": "43b01c5e",
   "metadata": {},
   "outputs": [],
   "source": [
    "import cv2\n",
    "import numpy as np\n",
    "import random\n",
    "\n",
    "img = cv2.imread('./01.jpg')\n",
    "h,w = img.shape[:2] # shape属性是一个有3个元素的元组，我们只需要前面两个\n",
    "dst = np.zeros(img.shape,np.uint8) # 定义一个形状和原来图像一样的空图像\n",
    "# 定义一个范围\n",
    "mm = 8 # 有可能是水平和竖直两个方向\n",
    "for m in range(0,h-mm):\n",
    "    for n in range(0,w-mm):\n",
    "        # 产生一个随机数\n",
    "        index = int(random.random()*8)\n",
    "        # 利用这个随机数获取像素的颜色值\n",
    "        (b,g,r) = img[m+index,n+index]\n",
    "        dst[m,n]=(b,g,r)\n",
    "        \n",
    "cv2.imshow(\"result\",dst)\n",
    "cv2.waitKey(0)\n",
    "cv2.destroyAllWindows()"
   ]
  },
  {
   "cell_type": "code",
   "execution_count": null,
   "id": "8c571683",
   "metadata": {},
   "outputs": [],
   "source": []
  }
 ],
 "metadata": {
  "kernelspec": {
   "display_name": "Python 3",
   "language": "python",
   "name": "python3"
  },
  "language_info": {
   "codemirror_mode": {
    "name": "ipython",
    "version": 3
   },
   "file_extension": ".py",
   "mimetype": "text/x-python",
   "name": "python",
   "nbconvert_exporter": "python",
   "pygments_lexer": "ipython3",
   "version": "3.6.3"
  }
 },
 "nbformat": 4,
 "nbformat_minor": 5
}
