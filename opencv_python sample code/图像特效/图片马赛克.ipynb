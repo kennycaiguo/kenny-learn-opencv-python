{
 "cells": [
  {
   "cell_type": "code",
   "execution_count": 2,
   "id": "e05b7f37",
   "metadata": {},
   "outputs": [],
   "source": [
    "# 图片马赛克效果\n",
    "import cv2\n",
    "import numpy as np\n",
    "\n",
    "img = cv2.imread('./01.jpg')\n",
    "h,w = img.shape[:2] # shape属性是一个有3个元素的元组，我们只需要前面两个\n",
    "# 通过循环实现马赛克效果\n",
    "for m in range(100,300):\n",
    "    for n in range(100,200):\n",
    "        # 用一个像素来替一个10*10的矩形区域\n",
    "        if m%10==0 and n%10==0:\n",
    "            # 实现替换，需要两个循环\n",
    "            for i in range(0,10):\n",
    "                for j in range(0,10):\n",
    "                    # 获取像素值\n",
    "                    (b,g,r) = img[m,n]\n",
    "                    img[i+m,j+n]=(b,g,r)\n",
    "                    \n",
    "cv2.imshow(\"result\",img)                           \n",
    "cv2.waitKey(0)\n",
    "cv2.destroyAllWindows()"
   ]
  },
  {
   "cell_type": "code",
   "execution_count": null,
   "id": "788dbd55",
   "metadata": {},
   "outputs": [],
   "source": []
  }
 ],
 "metadata": {
  "kernelspec": {
   "display_name": "Python 3",
   "language": "python",
   "name": "python3"
  },
  "language_info": {
   "codemirror_mode": {
    "name": "ipython",
    "version": 3
   },
   "file_extension": ".py",
   "mimetype": "text/x-python",
   "name": "python",
   "nbconvert_exporter": "python",
   "pygments_lexer": "ipython3",
   "version": "3.6.3"
  }
 },
 "nbformat": 4,
 "nbformat_minor": 5
}
