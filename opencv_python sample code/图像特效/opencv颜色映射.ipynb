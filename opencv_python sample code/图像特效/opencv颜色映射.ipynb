{
 "cells": [
  {
   "cell_type": "code",
   "execution_count": 3,
   "id": "c611cdc5",
   "metadata": {},
   "outputs": [],
   "source": [
    "#颜色映射\n",
    "import cv2\n",
    "import numpy as np\n",
    "\n",
    "img = cv2.imread('./01.jpg')\n",
    "cv2.imshow(\"original\",img)\n",
    "h,w = img.shape[:2] # shape属性是一个有3个元素的元组，我们只需要前面两个\n",
    "# b = b * 1.5，g = g * 1.3 增强蓝色和绿色\n",
    "# 定义一个dst用来存放结果\n",
    "dst = np.zeros(img.shape,np.uint8)\n",
    "for i in range(0,h):\n",
    "    for j in range(0,w):\n",
    "        (b,g,r) = img[i,j]\n",
    "        b = b *1.5\n",
    "        g = g * 1.3\n",
    "        # 防止颜色超出范围,如果不出来，颜色很难看\n",
    "        if b > 255 :\n",
    "            b = 255\n",
    "        if g > 255:\n",
    "            g = 255\n",
    "        dst[i,j] = (b,g,r)\n",
    "cv2.imshow(\"result\",dst)\n",
    "cv2.waitKey(0)\n",
    "cv2.destroyAllWindows()"
   ]
  },
  {
   "cell_type": "code",
   "execution_count": null,
   "id": "83138e3d",
   "metadata": {},
   "outputs": [],
   "source": []
  }
 ],
 "metadata": {
  "kernelspec": {
   "display_name": "Python 3",
   "language": "python",
   "name": "python3"
  },
  "language_info": {
   "codemirror_mode": {
    "name": "ipython",
    "version": 3
   },
   "file_extension": ".py",
   "mimetype": "text/x-python",
   "name": "python",
   "nbconvert_exporter": "python",
   "pygments_lexer": "ipython3",
   "version": "3.6.3"
  }
 },
 "nbformat": 4,
 "nbformat_minor": 5
}
